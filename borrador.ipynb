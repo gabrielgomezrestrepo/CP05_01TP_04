{
 "cells": [
  {
   "cell_type": "code",
   "execution_count": 1,
   "metadata": {},
   "outputs": [],
   "source": [
    "from xml.dom.minidom import Entity\n",
    "import pandas as pd\n",
    "import numpy as np"
   ]
  },
  {
   "attachments": {},
   "cell_type": "markdown",
   "metadata": {},
   "source": [
    "Debes utilizar Pandas para ingestar en un objeto Dataframe el contenido del archivo provisto\n",
    "\"Fuentes_Consumo_Energia.csv\".\n",
    "Esta función debe informar la cantidad de registros cuya entidad sean Colombia o México retornando ese\n",
    "valor en un dato de tipo tupla (catidad de registros Colombia, catidad de registros México).\n",
    "Pista: averiguar la funcion Shape"
   ]
  },
  {
   "cell_type": "code",
   "execution_count": 2,
   "metadata": {},
   "outputs": [],
   "source": [
    "df=pd.read_csv(\"datasets/Fuentes_Consumo_Energia.csv\")"
   ]
  },
  {
   "cell_type": "code",
   "execution_count": 4,
   "metadata": {},
   "outputs": [
    {
     "data": {
      "text/html": [
       "<div>\n",
       "<style scoped>\n",
       "    .dataframe tbody tr th:only-of-type {\n",
       "        vertical-align: middle;\n",
       "    }\n",
       "\n",
       "    .dataframe tbody tr th {\n",
       "        vertical-align: top;\n",
       "    }\n",
       "\n",
       "    .dataframe thead th {\n",
       "        text-align: right;\n",
       "    }\n",
       "</style>\n",
       "<table border=\"1\" class=\"dataframe\">\n",
       "  <thead>\n",
       "    <tr style=\"text-align: right;\">\n",
       "      <th></th>\n",
       "      <th>Entity</th>\n",
       "      <th>Code</th>\n",
       "      <th>Year</th>\n",
       "      <th>Coal_Consumption_EJ</th>\n",
       "      <th>Gas_Consumption_EJ</th>\n",
       "      <th>Geo_Biomass_Other_TWh</th>\n",
       "      <th>Hydro_Generation_TWh</th>\n",
       "      <th>Nuclear_Generation_TWh</th>\n",
       "      <th>Solar_Generation_TWh</th>\n",
       "      <th>Wind_Generation_TWh</th>\n",
       "      <th>Oil_Consumption_EJ</th>\n",
       "    </tr>\n",
       "  </thead>\n",
       "  <tbody>\n",
       "    <tr>\n",
       "      <th>0</th>\n",
       "      <td>Africa</td>\n",
       "      <td>NaN</td>\n",
       "      <td>1965</td>\n",
       "      <td>1.164586</td>\n",
       "      <td>0.034358</td>\n",
       "      <td>0.0</td>\n",
       "      <td>13.905635</td>\n",
       "      <td>0.0</td>\n",
       "      <td>0.0</td>\n",
       "      <td>0.0</td>\n",
       "      <td>1.173241</td>\n",
       "    </tr>\n",
       "    <tr>\n",
       "      <th>1</th>\n",
       "      <td>Africa</td>\n",
       "      <td>NaN</td>\n",
       "      <td>1966</td>\n",
       "      <td>1.163240</td>\n",
       "      <td>0.038412</td>\n",
       "      <td>0.0</td>\n",
       "      <td>15.510004</td>\n",
       "      <td>0.0</td>\n",
       "      <td>0.0</td>\n",
       "      <td>0.0</td>\n",
       "      <td>1.284154</td>\n",
       "    </tr>\n",
       "    <tr>\n",
       "      <th>2</th>\n",
       "      <td>Africa</td>\n",
       "      <td>NaN</td>\n",
       "      <td>1967</td>\n",
       "      <td>1.189050</td>\n",
       "      <td>0.037964</td>\n",
       "      <td>0.0</td>\n",
       "      <td>16.190636</td>\n",
       "      <td>0.0</td>\n",
       "      <td>0.0</td>\n",
       "      <td>0.0</td>\n",
       "      <td>1.273799</td>\n",
       "    </tr>\n",
       "    <tr>\n",
       "      <th>3</th>\n",
       "      <td>Africa</td>\n",
       "      <td>NaN</td>\n",
       "      <td>1968</td>\n",
       "      <td>1.236646</td>\n",
       "      <td>0.038480</td>\n",
       "      <td>0.0</td>\n",
       "      <td>18.938341</td>\n",
       "      <td>0.0</td>\n",
       "      <td>0.0</td>\n",
       "      <td>0.0</td>\n",
       "      <td>1.344219</td>\n",
       "    </tr>\n",
       "    <tr>\n",
       "      <th>4</th>\n",
       "      <td>Africa</td>\n",
       "      <td>NaN</td>\n",
       "      <td>1969</td>\n",
       "      <td>1.247915</td>\n",
       "      <td>0.044971</td>\n",
       "      <td>0.0</td>\n",
       "      <td>22.100890</td>\n",
       "      <td>0.0</td>\n",
       "      <td>0.0</td>\n",
       "      <td>0.0</td>\n",
       "      <td>1.362729</td>\n",
       "    </tr>\n",
       "  </tbody>\n",
       "</table>\n",
       "</div>"
      ],
      "text/plain": [
       "   Entity Code  Year  Coal_Consumption_EJ  Gas_Consumption_EJ  \\\n",
       "0  Africa  NaN  1965             1.164586            0.034358   \n",
       "1  Africa  NaN  1966             1.163240            0.038412   \n",
       "2  Africa  NaN  1967             1.189050            0.037964   \n",
       "3  Africa  NaN  1968             1.236646            0.038480   \n",
       "4  Africa  NaN  1969             1.247915            0.044971   \n",
       "\n",
       "   Geo_Biomass_Other_TWh  Hydro_Generation_TWh  Nuclear_Generation_TWh  \\\n",
       "0                    0.0             13.905635                     0.0   \n",
       "1                    0.0             15.510004                     0.0   \n",
       "2                    0.0             16.190636                     0.0   \n",
       "3                    0.0             18.938341                     0.0   \n",
       "4                    0.0             22.100890                     0.0   \n",
       "\n",
       "   Solar_Generation_TWh  Wind_Generation_TWh  Oil_Consumption_EJ  \n",
       "0                   0.0                  0.0            1.173241  \n",
       "1                   0.0                  0.0            1.284154  \n",
       "2                   0.0                  0.0            1.273799  \n",
       "3                   0.0                  0.0            1.344219  \n",
       "4                   0.0                  0.0            1.362729  "
      ]
     },
     "execution_count": 4,
     "metadata": {},
     "output_type": "execute_result"
    }
   ],
   "source": [
    "df.head()"
   ]
  },
  {
   "cell_type": "code",
   "execution_count": 5,
   "metadata": {},
   "outputs": [
    {
     "name": "stdout",
     "output_type": "stream",
     "text": [
      "<class 'pandas.core.frame.DataFrame'>\n",
      "RangeIndex: 5190 entries, 0 to 5189\n",
      "Data columns (total 11 columns):\n",
      " #   Column                  Non-Null Count  Dtype  \n",
      "---  ------                  --------------  -----  \n",
      " 0   Entity                  5190 non-null   object \n",
      " 1   Code                    4145 non-null   object \n",
      " 2   Year                    5190 non-null   int64  \n",
      " 3   Coal_Consumption_EJ     5170 non-null   float64\n",
      " 4   Gas_Consumption_EJ      5170 non-null   float64\n",
      " 5   Geo_Biomass_Other_TWh   5115 non-null   float64\n",
      " 6   Hydro_Generation_TWh    5170 non-null   float64\n",
      " 7   Nuclear_Generation_TWh  5170 non-null   float64\n",
      " 8   Solar_Generation_TWh    5170 non-null   float64\n",
      " 9   Wind_Generation_TWh     5170 non-null   float64\n",
      " 10  Oil_Consumption_EJ      5184 non-null   float64\n",
      "dtypes: float64(8), int64(1), object(2)\n",
      "memory usage: 446.1+ KB\n"
     ]
    }
   ],
   "source": [
    "df.info()"
   ]
  },
  {
   "cell_type": "code",
   "execution_count": 21,
   "metadata": {},
   "outputs": [],
   "source": [
    "a=(df[\"Entity\"]==\"Colombia\")"
   ]
  },
  {
   "cell_type": "code",
   "execution_count": 11,
   "metadata": {},
   "outputs": [
    {
     "data": {
      "text/plain": [
       "True"
      ]
     },
     "execution_count": 11,
     "metadata": {},
     "output_type": "execute_result"
    }
   ],
   "source": [
    "a[897]"
   ]
  },
  {
   "cell_type": "code",
   "execution_count": 18,
   "metadata": {},
   "outputs": [
    {
     "data": {
      "text/html": [
       "<div>\n",
       "<style scoped>\n",
       "    .dataframe tbody tr th:only-of-type {\n",
       "        vertical-align: middle;\n",
       "    }\n",
       "\n",
       "    .dataframe tbody tr th {\n",
       "        vertical-align: top;\n",
       "    }\n",
       "\n",
       "    .dataframe thead th {\n",
       "        text-align: right;\n",
       "    }\n",
       "</style>\n",
       "<table border=\"1\" class=\"dataframe\">\n",
       "  <thead>\n",
       "    <tr style=\"text-align: right;\">\n",
       "      <th></th>\n",
       "      <th>Entity</th>\n",
       "      <th>Code</th>\n",
       "      <th>Year</th>\n",
       "      <th>Coal_Consumption_EJ</th>\n",
       "      <th>Gas_Consumption_EJ</th>\n",
       "      <th>Geo_Biomass_Other_TWh</th>\n",
       "      <th>Hydro_Generation_TWh</th>\n",
       "      <th>Nuclear_Generation_TWh</th>\n",
       "      <th>Solar_Generation_TWh</th>\n",
       "      <th>Wind_Generation_TWh</th>\n",
       "      <th>Oil_Consumption_EJ</th>\n",
       "    </tr>\n",
       "  </thead>\n",
       "  <tbody>\n",
       "    <tr>\n",
       "      <th>895</th>\n",
       "      <td>Colombia</td>\n",
       "      <td>COL</td>\n",
       "      <td>1965</td>\n",
       "      <td>0.084322</td>\n",
       "      <td>0.032225</td>\n",
       "      <td>0.0</td>\n",
       "      <td>3.543949</td>\n",
       "      <td>0.0</td>\n",
       "      <td>0.0</td>\n",
       "      <td>0.0</td>\n",
       "      <td>0.165758</td>\n",
       "    </tr>\n",
       "    <tr>\n",
       "      <th>896</th>\n",
       "      <td>Colombia</td>\n",
       "      <td>COL</td>\n",
       "      <td>1966</td>\n",
       "      <td>0.084322</td>\n",
       "      <td>0.033611</td>\n",
       "      <td>0.0</td>\n",
       "      <td>3.937219</td>\n",
       "      <td>0.0</td>\n",
       "      <td>0.0</td>\n",
       "      <td>0.0</td>\n",
       "      <td>0.188919</td>\n",
       "    </tr>\n",
       "    <tr>\n",
       "      <th>897</th>\n",
       "      <td>Colombia</td>\n",
       "      <td>COL</td>\n",
       "      <td>1967</td>\n",
       "      <td>0.092528</td>\n",
       "      <td>0.041580</td>\n",
       "      <td>0.0</td>\n",
       "      <td>4.389254</td>\n",
       "      <td>0.0</td>\n",
       "      <td>0.0</td>\n",
       "      <td>0.0</td>\n",
       "      <td>0.190582</td>\n",
       "    </tr>\n",
       "    <tr>\n",
       "      <th>898</th>\n",
       "      <td>Colombia</td>\n",
       "      <td>COL</td>\n",
       "      <td>1968</td>\n",
       "      <td>0.084280</td>\n",
       "      <td>0.042377</td>\n",
       "      <td>0.0</td>\n",
       "      <td>4.891012</td>\n",
       "      <td>0.0</td>\n",
       "      <td>0.0</td>\n",
       "      <td>0.0</td>\n",
       "      <td>0.212734</td>\n",
       "    </tr>\n",
       "    <tr>\n",
       "      <th>899</th>\n",
       "      <td>Colombia</td>\n",
       "      <td>COL</td>\n",
       "      <td>1969</td>\n",
       "      <td>0.089974</td>\n",
       "      <td>0.046275</td>\n",
       "      <td>0.0</td>\n",
       "      <td>5.437973</td>\n",
       "      <td>0.0</td>\n",
       "      <td>0.0</td>\n",
       "      <td>0.0</td>\n",
       "      <td>0.204372</td>\n",
       "    </tr>\n",
       "  </tbody>\n",
       "</table>\n",
       "</div>"
      ],
      "text/plain": [
       "       Entity Code  Year  Coal_Consumption_EJ  Gas_Consumption_EJ  \\\n",
       "895  Colombia  COL  1965             0.084322            0.032225   \n",
       "896  Colombia  COL  1966             0.084322            0.033611   \n",
       "897  Colombia  COL  1967             0.092528            0.041580   \n",
       "898  Colombia  COL  1968             0.084280            0.042377   \n",
       "899  Colombia  COL  1969             0.089974            0.046275   \n",
       "\n",
       "     Geo_Biomass_Other_TWh  Hydro_Generation_TWh  Nuclear_Generation_TWh  \\\n",
       "895                    0.0              3.543949                     0.0   \n",
       "896                    0.0              3.937219                     0.0   \n",
       "897                    0.0              4.389254                     0.0   \n",
       "898                    0.0              4.891012                     0.0   \n",
       "899                    0.0              5.437973                     0.0   \n",
       "\n",
       "     Solar_Generation_TWh  Wind_Generation_TWh  Oil_Consumption_EJ  \n",
       "895                   0.0                  0.0            0.165758  \n",
       "896                   0.0                  0.0            0.188919  \n",
       "897                   0.0                  0.0            0.190582  \n",
       "898                   0.0                  0.0            0.212734  \n",
       "899                   0.0                  0.0            0.204372  "
      ]
     },
     "execution_count": 18,
     "metadata": {},
     "output_type": "execute_result"
    }
   ],
   "source": [
    "df[a==True].head()"
   ]
  },
  {
   "cell_type": "code",
   "execution_count": 16,
   "metadata": {},
   "outputs": [
    {
     "data": {
      "text/plain": [
       "(55, 11)"
      ]
     },
     "execution_count": 16,
     "metadata": {},
     "output_type": "execute_result"
    }
   ],
   "source": [
    "df[a==True].shape"
   ]
  },
  {
   "cell_type": "code",
   "execution_count": 17,
   "metadata": {},
   "outputs": [
    {
     "data": {
      "text/plain": [
       "55"
      ]
     },
     "execution_count": 17,
     "metadata": {},
     "output_type": "execute_result"
    }
   ],
   "source": [
    "df[a==True].shape[0]"
   ]
  },
  {
   "cell_type": "code",
   "execution_count": 52,
   "metadata": {},
   "outputs": [],
   "source": [
    "a= df[df[\"Entity\"]==\"Colombia\"].shape[0]"
   ]
  },
  {
   "cell_type": "code",
   "execution_count": 53,
   "metadata": {},
   "outputs": [],
   "source": [
    "b= df[df[\"Entity\"]==\"Mexico\"].shape[0]"
   ]
  },
  {
   "cell_type": "code",
   "execution_count": 54,
   "metadata": {},
   "outputs": [
    {
     "data": {
      "text/plain": [
       "(55, 55)"
      ]
     },
     "execution_count": 54,
     "metadata": {},
     "output_type": "execute_result"
    }
   ],
   "source": [
    "(a,b) "
   ]
  },
  {
   "attachments": {},
   "cell_type": "markdown",
   "metadata": {},
   "source": [
    "2\n",
    "Debes utilizar Pandas para ingestar en un objeto Dataframe el contenido del archivo provisto\n",
    "    \"Fuentes_Consumo_Energia.csv\".\n",
    "    Esta función debe eliminar las columnas 'Code' y 'Entity' y luego informar la cantidad de columnas\n",
    "    retornando ese valor en un dato de tipo entero."
   ]
  },
  {
   "cell_type": "code",
   "execution_count": 55,
   "metadata": {},
   "outputs": [
    {
     "data": {
      "text/html": [
       "<div>\n",
       "<style scoped>\n",
       "    .dataframe tbody tr th:only-of-type {\n",
       "        vertical-align: middle;\n",
       "    }\n",
       "\n",
       "    .dataframe tbody tr th {\n",
       "        vertical-align: top;\n",
       "    }\n",
       "\n",
       "    .dataframe thead th {\n",
       "        text-align: right;\n",
       "    }\n",
       "</style>\n",
       "<table border=\"1\" class=\"dataframe\">\n",
       "  <thead>\n",
       "    <tr style=\"text-align: right;\">\n",
       "      <th></th>\n",
       "      <th>Entity</th>\n",
       "      <th>Code</th>\n",
       "      <th>Year</th>\n",
       "      <th>Coal_Consumption_EJ</th>\n",
       "      <th>Gas_Consumption_EJ</th>\n",
       "      <th>Geo_Biomass_Other_TWh</th>\n",
       "      <th>Hydro_Generation_TWh</th>\n",
       "      <th>Nuclear_Generation_TWh</th>\n",
       "      <th>Solar_Generation_TWh</th>\n",
       "      <th>Wind_Generation_TWh</th>\n",
       "      <th>Oil_Consumption_EJ</th>\n",
       "    </tr>\n",
       "  </thead>\n",
       "  <tbody>\n",
       "    <tr>\n",
       "      <th>0</th>\n",
       "      <td>Africa</td>\n",
       "      <td>NaN</td>\n",
       "      <td>1965</td>\n",
       "      <td>1.164586</td>\n",
       "      <td>0.034358</td>\n",
       "      <td>0.0</td>\n",
       "      <td>13.905635</td>\n",
       "      <td>0.0</td>\n",
       "      <td>0.0</td>\n",
       "      <td>0.0</td>\n",
       "      <td>1.173241</td>\n",
       "    </tr>\n",
       "    <tr>\n",
       "      <th>1</th>\n",
       "      <td>Africa</td>\n",
       "      <td>NaN</td>\n",
       "      <td>1966</td>\n",
       "      <td>1.163240</td>\n",
       "      <td>0.038412</td>\n",
       "      <td>0.0</td>\n",
       "      <td>15.510004</td>\n",
       "      <td>0.0</td>\n",
       "      <td>0.0</td>\n",
       "      <td>0.0</td>\n",
       "      <td>1.284154</td>\n",
       "    </tr>\n",
       "    <tr>\n",
       "      <th>2</th>\n",
       "      <td>Africa</td>\n",
       "      <td>NaN</td>\n",
       "      <td>1967</td>\n",
       "      <td>1.189050</td>\n",
       "      <td>0.037964</td>\n",
       "      <td>0.0</td>\n",
       "      <td>16.190636</td>\n",
       "      <td>0.0</td>\n",
       "      <td>0.0</td>\n",
       "      <td>0.0</td>\n",
       "      <td>1.273799</td>\n",
       "    </tr>\n",
       "    <tr>\n",
       "      <th>3</th>\n",
       "      <td>Africa</td>\n",
       "      <td>NaN</td>\n",
       "      <td>1968</td>\n",
       "      <td>1.236646</td>\n",
       "      <td>0.038480</td>\n",
       "      <td>0.0</td>\n",
       "      <td>18.938341</td>\n",
       "      <td>0.0</td>\n",
       "      <td>0.0</td>\n",
       "      <td>0.0</td>\n",
       "      <td>1.344219</td>\n",
       "    </tr>\n",
       "    <tr>\n",
       "      <th>4</th>\n",
       "      <td>Africa</td>\n",
       "      <td>NaN</td>\n",
       "      <td>1969</td>\n",
       "      <td>1.247915</td>\n",
       "      <td>0.044971</td>\n",
       "      <td>0.0</td>\n",
       "      <td>22.100890</td>\n",
       "      <td>0.0</td>\n",
       "      <td>0.0</td>\n",
       "      <td>0.0</td>\n",
       "      <td>1.362729</td>\n",
       "    </tr>\n",
       "  </tbody>\n",
       "</table>\n",
       "</div>"
      ],
      "text/plain": [
       "   Entity Code  Year  Coal_Consumption_EJ  Gas_Consumption_EJ  \\\n",
       "0  Africa  NaN  1965             1.164586            0.034358   \n",
       "1  Africa  NaN  1966             1.163240            0.038412   \n",
       "2  Africa  NaN  1967             1.189050            0.037964   \n",
       "3  Africa  NaN  1968             1.236646            0.038480   \n",
       "4  Africa  NaN  1969             1.247915            0.044971   \n",
       "\n",
       "   Geo_Biomass_Other_TWh  Hydro_Generation_TWh  Nuclear_Generation_TWh  \\\n",
       "0                    0.0             13.905635                     0.0   \n",
       "1                    0.0             15.510004                     0.0   \n",
       "2                    0.0             16.190636                     0.0   \n",
       "3                    0.0             18.938341                     0.0   \n",
       "4                    0.0             22.100890                     0.0   \n",
       "\n",
       "   Solar_Generation_TWh  Wind_Generation_TWh  Oil_Consumption_EJ  \n",
       "0                   0.0                  0.0            1.173241  \n",
       "1                   0.0                  0.0            1.284154  \n",
       "2                   0.0                  0.0            1.273799  \n",
       "3                   0.0                  0.0            1.344219  \n",
       "4                   0.0                  0.0            1.362729  "
      ]
     },
     "execution_count": 55,
     "metadata": {},
     "output_type": "execute_result"
    }
   ],
   "source": [
    "df.head()"
   ]
  },
  {
   "cell_type": "code",
   "execution_count": 58,
   "metadata": {},
   "outputs": [],
   "source": [
    "c = df.drop(columns= ['Code' , 'Entity'])"
   ]
  },
  {
   "cell_type": "code",
   "execution_count": 59,
   "metadata": {},
   "outputs": [
    {
     "data": {
      "text/html": [
       "<div>\n",
       "<style scoped>\n",
       "    .dataframe tbody tr th:only-of-type {\n",
       "        vertical-align: middle;\n",
       "    }\n",
       "\n",
       "    .dataframe tbody tr th {\n",
       "        vertical-align: top;\n",
       "    }\n",
       "\n",
       "    .dataframe thead th {\n",
       "        text-align: right;\n",
       "    }\n",
       "</style>\n",
       "<table border=\"1\" class=\"dataframe\">\n",
       "  <thead>\n",
       "    <tr style=\"text-align: right;\">\n",
       "      <th></th>\n",
       "      <th>Year</th>\n",
       "      <th>Coal_Consumption_EJ</th>\n",
       "      <th>Gas_Consumption_EJ</th>\n",
       "      <th>Geo_Biomass_Other_TWh</th>\n",
       "      <th>Hydro_Generation_TWh</th>\n",
       "      <th>Nuclear_Generation_TWh</th>\n",
       "      <th>Solar_Generation_TWh</th>\n",
       "      <th>Wind_Generation_TWh</th>\n",
       "      <th>Oil_Consumption_EJ</th>\n",
       "    </tr>\n",
       "  </thead>\n",
       "  <tbody>\n",
       "    <tr>\n",
       "      <th>0</th>\n",
       "      <td>1965</td>\n",
       "      <td>1.164586</td>\n",
       "      <td>0.034358</td>\n",
       "      <td>0.0</td>\n",
       "      <td>13.905635</td>\n",
       "      <td>0.0</td>\n",
       "      <td>0.0</td>\n",
       "      <td>0.0</td>\n",
       "      <td>1.173241</td>\n",
       "    </tr>\n",
       "    <tr>\n",
       "      <th>1</th>\n",
       "      <td>1966</td>\n",
       "      <td>1.163240</td>\n",
       "      <td>0.038412</td>\n",
       "      <td>0.0</td>\n",
       "      <td>15.510004</td>\n",
       "      <td>0.0</td>\n",
       "      <td>0.0</td>\n",
       "      <td>0.0</td>\n",
       "      <td>1.284154</td>\n",
       "    </tr>\n",
       "    <tr>\n",
       "      <th>2</th>\n",
       "      <td>1967</td>\n",
       "      <td>1.189050</td>\n",
       "      <td>0.037964</td>\n",
       "      <td>0.0</td>\n",
       "      <td>16.190636</td>\n",
       "      <td>0.0</td>\n",
       "      <td>0.0</td>\n",
       "      <td>0.0</td>\n",
       "      <td>1.273799</td>\n",
       "    </tr>\n",
       "    <tr>\n",
       "      <th>3</th>\n",
       "      <td>1968</td>\n",
       "      <td>1.236646</td>\n",
       "      <td>0.038480</td>\n",
       "      <td>0.0</td>\n",
       "      <td>18.938341</td>\n",
       "      <td>0.0</td>\n",
       "      <td>0.0</td>\n",
       "      <td>0.0</td>\n",
       "      <td>1.344219</td>\n",
       "    </tr>\n",
       "    <tr>\n",
       "      <th>4</th>\n",
       "      <td>1969</td>\n",
       "      <td>1.247915</td>\n",
       "      <td>0.044971</td>\n",
       "      <td>0.0</td>\n",
       "      <td>22.100890</td>\n",
       "      <td>0.0</td>\n",
       "      <td>0.0</td>\n",
       "      <td>0.0</td>\n",
       "      <td>1.362729</td>\n",
       "    </tr>\n",
       "  </tbody>\n",
       "</table>\n",
       "</div>"
      ],
      "text/plain": [
       "   Year  Coal_Consumption_EJ  Gas_Consumption_EJ  Geo_Biomass_Other_TWh  \\\n",
       "0  1965             1.164586            0.034358                    0.0   \n",
       "1  1966             1.163240            0.038412                    0.0   \n",
       "2  1967             1.189050            0.037964                    0.0   \n",
       "3  1968             1.236646            0.038480                    0.0   \n",
       "4  1969             1.247915            0.044971                    0.0   \n",
       "\n",
       "   Hydro_Generation_TWh  Nuclear_Generation_TWh  Solar_Generation_TWh  \\\n",
       "0             13.905635                     0.0                   0.0   \n",
       "1             15.510004                     0.0                   0.0   \n",
       "2             16.190636                     0.0                   0.0   \n",
       "3             18.938341                     0.0                   0.0   \n",
       "4             22.100890                     0.0                   0.0   \n",
       "\n",
       "   Wind_Generation_TWh  Oil_Consumption_EJ  \n",
       "0                  0.0            1.173241  \n",
       "1                  0.0            1.284154  \n",
       "2                  0.0            1.273799  \n",
       "3                  0.0            1.344219  \n",
       "4                  0.0            1.362729  "
      ]
     },
     "execution_count": 59,
     "metadata": {},
     "output_type": "execute_result"
    }
   ],
   "source": [
    "c.head()"
   ]
  },
  {
   "cell_type": "code",
   "execution_count": 61,
   "metadata": {},
   "outputs": [
    {
     "data": {
      "text/plain": [
       "9"
      ]
     },
     "execution_count": 61,
     "metadata": {},
     "output_type": "execute_result"
    }
   ],
   "source": [
    "c.shape[1]"
   ]
  },
  {
   "cell_type": "code",
   "execution_count": 62,
   "metadata": {},
   "outputs": [
    {
     "data": {
      "text/plain": [
       "int"
      ]
     },
     "execution_count": 62,
     "metadata": {},
     "output_type": "execute_result"
    }
   ],
   "source": [
    "type(c.shape[1])"
   ]
  },
  {
   "cell_type": "code",
   "execution_count": 63,
   "metadata": {},
   "outputs": [
    {
     "name": "stdout",
     "output_type": "stream",
     "text": [
      "<class 'pandas.core.frame.DataFrame'>\n",
      "RangeIndex: 5190 entries, 0 to 5189\n",
      "Data columns (total 9 columns):\n",
      " #   Column                  Non-Null Count  Dtype  \n",
      "---  ------                  --------------  -----  \n",
      " 0   Year                    5190 non-null   int64  \n",
      " 1   Coal_Consumption_EJ     5170 non-null   float64\n",
      " 2   Gas_Consumption_EJ      5170 non-null   float64\n",
      " 3   Geo_Biomass_Other_TWh   5115 non-null   float64\n",
      " 4   Hydro_Generation_TWh    5170 non-null   float64\n",
      " 5   Nuclear_Generation_TWh  5170 non-null   float64\n",
      " 6   Solar_Generation_TWh    5170 non-null   float64\n",
      " 7   Wind_Generation_TWh     5170 non-null   float64\n",
      " 8   Oil_Consumption_EJ      5184 non-null   float64\n",
      "dtypes: float64(8), int64(1)\n",
      "memory usage: 365.0 KB\n"
     ]
    }
   ],
   "source": [
    "c.info()"
   ]
  },
  {
   "attachments": {},
   "cell_type": "markdown",
   "metadata": {},
   "source": [
    "3 resuleto"
   ]
  },
  {
   "cell_type": "code",
   "execution_count": 70,
   "metadata": {},
   "outputs": [
    {
     "data": {
      "text/plain": [
       "2013"
      ]
     },
     "execution_count": 70,
     "metadata": {},
     "output_type": "execute_result"
    }
   ],
   "source": [
    "df=pd.read_csv(\"datasets/Fuentes_Consumo_Energia.csv\")\n",
    "d = df[df[\"Entity\"]==\"Europe\"]\n",
    "d = d[  d[\"Hydro_Generation_TWh\"]==d[\"Hydro_Generation_TWh\"].max()]\n",
    "int(d[\"Year\"].values[0])\n",
    "    "
   ]
  },
  {
   "cell_type": "code",
   "execution_count": 72,
   "metadata": {},
   "outputs": [
    {
     "data": {
      "text/plain": [
       "2013"
      ]
     },
     "execution_count": 72,
     "metadata": {},
     "output_type": "execute_result"
    }
   ],
   "source": [
    "int(d[\"Year\"].values[0])"
   ]
  },
  {
   "attachments": {},
   "cell_type": "markdown",
   "metadata": {},
   "source": [
    "5 resuelto 4 pendiente"
   ]
  },
  {
   "attachments": {},
   "cell_type": "markdown",
   "metadata": {},
   "source": [
    " Esta función recibe tres array de Numpy de 2 dimensiones cada uno, y devuelve el valor booleano\n",
    "    True si es posible realizar una multiplicación entre las tres matrices (n1 x n2 x n3),\n",
    "    y el valor booleano False si no lo es\n",
    "    Ej:\n",
    "        n1 = np.array([[0,0,0],[1,1,1],[2,2,2]])\n",
    "        n2 = np.array([[3,3],[4,4],[5,5]])\n",
    "        n3 = np.array([1,1],[2,2])\n",
    "        print(Ret_Pregunta06(n1,n2,n3))\n",
    "            True            -> Valor devuelto por la función en este ejemplo\n",
    "        print(Ret_Pregunta06(n2,n1,n3))\n",
    "            False            -> Valor devuelto por la función en este ejemplo"
   ]
  },
  {
   "cell_type": "code",
   "execution_count": 74,
   "metadata": {},
   "outputs": [
    {
     "data": {
      "text/plain": [
       "(3, 3)"
      ]
     },
     "execution_count": 74,
     "metadata": {},
     "output_type": "execute_result"
    }
   ],
   "source": [
    "n1 = np.array([[0,0,0],[1,1,1],[2,2,2]])\n",
    "n2 = np.array([[3,3],[4,4],[5,5]])\n",
    "n3 = np.array([[1,1],[2,2]])\n",
    "n1.shape"
   ]
  },
  {
   "cell_type": "code",
   "execution_count": 77,
   "metadata": {},
   "outputs": [
    {
     "data": {
      "text/plain": [
       "True"
      ]
     },
     "execution_count": 77,
     "metadata": {},
     "output_type": "execute_result"
    }
   ],
   "source": [
    "n1.shape[1] == n2.shape[0]"
   ]
  },
  {
   "cell_type": "code",
   "execution_count": 78,
   "metadata": {},
   "outputs": [
    {
     "data": {
      "text/plain": [
       "True"
      ]
     },
     "execution_count": 78,
     "metadata": {},
     "output_type": "execute_result"
    }
   ],
   "source": [
    "n2.shape[1] == n3.shape[0]"
   ]
  },
  {
   "cell_type": "code",
   "execution_count": 79,
   "metadata": {},
   "outputs": [
    {
     "data": {
      "text/plain": [
       "100"
      ]
     },
     "execution_count": 79,
     "metadata": {},
     "output_type": "execute_result"
    }
   ],
   "source": [
    "int(df[\"Entity\"].value_counts().shape[0])"
   ]
  },
  {
   "cell_type": "code",
   "execution_count": 83,
   "metadata": {},
   "outputs": [],
   "source": [
    "''' Debes utilizar Pandas para ingestar en un objeto Dataframe el contenido del archivo provisto\n",
    "\"datasets/Tabla1_ejercicio.csv\" y \"datasets/Tabla2_ejercicio.csv\".\n",
    "Esta función debe retornar: score_promedio_femenino y score_promedio_masculino en formato tupla, teniendo \n",
    "en cuenta que no debe haber valores repetidos.'''\n",
    "#Tu código aca:\n",
    "t1 = pd.read_csv(\"datasets/Tabla1_ejercicio.csv\", sep =\";\")\n",
    "t2 = pd.read_csv(\"datasets/Tabla2_ejercicio.csv\", sep =\";\")"
   ]
  },
  {
   "cell_type": "code",
   "execution_count": 84,
   "metadata": {},
   "outputs": [
    {
     "data": {
      "text/html": [
       "<div>\n",
       "<style scoped>\n",
       "    .dataframe tbody tr th:only-of-type {\n",
       "        vertical-align: middle;\n",
       "    }\n",
       "\n",
       "    .dataframe tbody tr th {\n",
       "        vertical-align: top;\n",
       "    }\n",
       "\n",
       "    .dataframe thead th {\n",
       "        text-align: right;\n",
       "    }\n",
       "</style>\n",
       "<table border=\"1\" class=\"dataframe\">\n",
       "  <thead>\n",
       "    <tr style=\"text-align: right;\">\n",
       "      <th></th>\n",
       "      <th>pers_id</th>\n",
       "      <th>sexo</th>\n",
       "      <th>edad</th>\n",
       "      <th>ingreso</th>\n",
       "      <th>situacion_lab</th>\n",
       "    </tr>\n",
       "  </thead>\n",
       "  <tbody>\n",
       "    <tr>\n",
       "      <th>0</th>\n",
       "      <td>71906556521</td>\n",
       "      <td>F</td>\n",
       "      <td>47</td>\n",
       "      <td>35926.28125</td>\n",
       "      <td>Sin_situacion_declarada</td>\n",
       "    </tr>\n",
       "    <tr>\n",
       "      <th>1</th>\n",
       "      <td>73861260912</td>\n",
       "      <td>F</td>\n",
       "      <td>41</td>\n",
       "      <td>16231.12207</td>\n",
       "      <td>Sin_situacion_declarada</td>\n",
       "    </tr>\n",
       "    <tr>\n",
       "      <th>2</th>\n",
       "      <td>24939194469</td>\n",
       "      <td>F</td>\n",
       "      <td>40</td>\n",
       "      <td>25068.96484</td>\n",
       "      <td>Relacion_dependencia</td>\n",
       "    </tr>\n",
       "    <tr>\n",
       "      <th>3</th>\n",
       "      <td>21033369421</td>\n",
       "      <td>F</td>\n",
       "      <td>52</td>\n",
       "      <td>30239.54883</td>\n",
       "      <td>Jubilado</td>\n",
       "    </tr>\n",
       "    <tr>\n",
       "      <th>4</th>\n",
       "      <td>45334163605</td>\n",
       "      <td>F</td>\n",
       "      <td>46</td>\n",
       "      <td>12654.58203</td>\n",
       "      <td>Relacion_dependencia</td>\n",
       "    </tr>\n",
       "  </tbody>\n",
       "</table>\n",
       "</div>"
      ],
      "text/plain": [
       "       pers_id sexo  edad      ingreso            situacion_lab\n",
       "0  71906556521    F    47  35926.28125  Sin_situacion_declarada\n",
       "1  73861260912    F    41  16231.12207  Sin_situacion_declarada\n",
       "2  24939194469    F    40  25068.96484     Relacion_dependencia\n",
       "3  21033369421    F    52  30239.54883                 Jubilado\n",
       "4  45334163605    F    46  12654.58203     Relacion_dependencia"
      ]
     },
     "execution_count": 84,
     "metadata": {},
     "output_type": "execute_result"
    }
   ],
   "source": [
    "t1.head()"
   ]
  },
  {
   "cell_type": "code",
   "execution_count": 85,
   "metadata": {},
   "outputs": [
    {
     "data": {
      "text/html": [
       "<div>\n",
       "<style scoped>\n",
       "    .dataframe tbody tr th:only-of-type {\n",
       "        vertical-align: middle;\n",
       "    }\n",
       "\n",
       "    .dataframe tbody tr th {\n",
       "        vertical-align: top;\n",
       "    }\n",
       "\n",
       "    .dataframe thead th {\n",
       "        text-align: right;\n",
       "    }\n",
       "</style>\n",
       "<table border=\"1\" class=\"dataframe\">\n",
       "  <thead>\n",
       "    <tr style=\"text-align: right;\">\n",
       "      <th></th>\n",
       "      <th>pers_id</th>\n",
       "      <th>periodo</th>\n",
       "      <th>score</th>\n",
       "    </tr>\n",
       "  </thead>\n",
       "  <tbody>\n",
       "    <tr>\n",
       "      <th>0</th>\n",
       "      <td>27817725</td>\n",
       "      <td>201906</td>\n",
       "      <td>814</td>\n",
       "    </tr>\n",
       "    <tr>\n",
       "      <th>1</th>\n",
       "      <td>37570691</td>\n",
       "      <td>201906</td>\n",
       "      <td>597</td>\n",
       "    </tr>\n",
       "    <tr>\n",
       "      <th>2</th>\n",
       "      <td>40181240</td>\n",
       "      <td>201906</td>\n",
       "      <td>251</td>\n",
       "    </tr>\n",
       "    <tr>\n",
       "      <th>3</th>\n",
       "      <td>52105045</td>\n",
       "      <td>201906</td>\n",
       "      <td>617</td>\n",
       "    </tr>\n",
       "    <tr>\n",
       "      <th>4</th>\n",
       "      <td>63502595</td>\n",
       "      <td>201906</td>\n",
       "      <td>392</td>\n",
       "    </tr>\n",
       "  </tbody>\n",
       "</table>\n",
       "</div>"
      ],
      "text/plain": [
       "    pers_id  periodo  score\n",
       "0  27817725   201906    814\n",
       "1  37570691   201906    597\n",
       "2  40181240   201906    251\n",
       "3  52105045   201906    617\n",
       "4  63502595   201906    392"
      ]
     },
     "execution_count": 85,
     "metadata": {},
     "output_type": "execute_result"
    }
   ],
   "source": [
    "t2.head()"
   ]
  },
  {
   "cell_type": "code",
   "execution_count": 86,
   "metadata": {},
   "outputs": [
    {
     "name": "stdout",
     "output_type": "stream",
     "text": [
      "<class 'pandas.core.frame.DataFrame'>\n",
      "RangeIndex: 5000 entries, 0 to 4999\n",
      "Data columns (total 5 columns):\n",
      " #   Column         Non-Null Count  Dtype  \n",
      "---  ------         --------------  -----  \n",
      " 0   pers_id        5000 non-null   int64  \n",
      " 1   sexo           5000 non-null   object \n",
      " 2   edad           5000 non-null   int64  \n",
      " 3   ingreso        5000 non-null   float64\n",
      " 4   situacion_lab  5000 non-null   object \n",
      "dtypes: float64(1), int64(2), object(2)\n",
      "memory usage: 195.4+ KB\n"
     ]
    }
   ],
   "source": [
    "t1.info()"
   ]
  },
  {
   "cell_type": "code",
   "execution_count": 87,
   "metadata": {},
   "outputs": [
    {
     "name": "stdout",
     "output_type": "stream",
     "text": [
      "<class 'pandas.core.frame.DataFrame'>\n",
      "RangeIndex: 14997 entries, 0 to 14996\n",
      "Data columns (total 3 columns):\n",
      " #   Column   Non-Null Count  Dtype\n",
      "---  ------   --------------  -----\n",
      " 0   pers_id  14997 non-null  int64\n",
      " 1   periodo  14997 non-null  int64\n",
      " 2   score    14997 non-null  int64\n",
      "dtypes: int64(3)\n",
      "memory usage: 351.6 KB\n"
     ]
    }
   ],
   "source": [
    "t2.info()"
   ]
  },
  {
   "cell_type": "code",
   "execution_count": 88,
   "metadata": {},
   "outputs": [
    {
     "data": {
      "text/plain": [
       "71906556521    2\n",
       "31414312693    2\n",
       "17186678650    2\n",
       "70734373700    2\n",
       "56028074214    2\n",
       "              ..\n",
       "69108968622    1\n",
       "34194408076    1\n",
       "63225860149    1\n",
       "32885845447    1\n",
       "92370836565    1\n",
       "Name: pers_id, Length: 4853, dtype: int64"
      ]
     },
     "execution_count": 88,
     "metadata": {},
     "output_type": "execute_result"
    }
   ],
   "source": [
    "t1[\"pers_id\"].value_counts()"
   ]
  },
  {
   "cell_type": "code",
   "execution_count": 95,
   "metadata": {},
   "outputs": [
    {
     "data": {
      "text/plain": [
       "Int64Index([   0,    1,    2,    3,    4,    5,    6,    7,    8,    9,\n",
       "            ...\n",
       "            4990, 4991, 4992, 4993, 4994, 4995, 4996, 4997, 4998, 4999],\n",
       "           dtype='int64', length=4853)"
      ]
     },
     "execution_count": 95,
     "metadata": {},
     "output_type": "execute_result"
    }
   ],
   "source": [
    "t1_unico = t1[\"pers_id\"].drop_duplicates()\n",
    "t1_unico.index"
   ]
  },
  {
   "cell_type": "code",
   "execution_count": 97,
   "metadata": {},
   "outputs": [
    {
     "data": {
      "text/html": [
       "<div>\n",
       "<style scoped>\n",
       "    .dataframe tbody tr th:only-of-type {\n",
       "        vertical-align: middle;\n",
       "    }\n",
       "\n",
       "    .dataframe tbody tr th {\n",
       "        vertical-align: top;\n",
       "    }\n",
       "\n",
       "    .dataframe thead th {\n",
       "        text-align: right;\n",
       "    }\n",
       "</style>\n",
       "<table border=\"1\" class=\"dataframe\">\n",
       "  <thead>\n",
       "    <tr style=\"text-align: right;\">\n",
       "      <th></th>\n",
       "      <th>pers_id</th>\n",
       "      <th>sexo</th>\n",
       "    </tr>\n",
       "  </thead>\n",
       "  <tbody>\n",
       "    <tr>\n",
       "      <th>0</th>\n",
       "      <td>71906556521</td>\n",
       "      <td>F</td>\n",
       "    </tr>\n",
       "    <tr>\n",
       "      <th>1</th>\n",
       "      <td>73861260912</td>\n",
       "      <td>F</td>\n",
       "    </tr>\n",
       "    <tr>\n",
       "      <th>2</th>\n",
       "      <td>24939194469</td>\n",
       "      <td>F</td>\n",
       "    </tr>\n",
       "    <tr>\n",
       "      <th>3</th>\n",
       "      <td>21033369421</td>\n",
       "      <td>F</td>\n",
       "    </tr>\n",
       "    <tr>\n",
       "      <th>4</th>\n",
       "      <td>45334163605</td>\n",
       "      <td>F</td>\n",
       "    </tr>\n",
       "    <tr>\n",
       "      <th>...</th>\n",
       "      <td>...</td>\n",
       "      <td>...</td>\n",
       "    </tr>\n",
       "    <tr>\n",
       "      <th>4995</th>\n",
       "      <td>77317158601</td>\n",
       "      <td>M</td>\n",
       "    </tr>\n",
       "    <tr>\n",
       "      <th>4996</th>\n",
       "      <td>7865860477</td>\n",
       "      <td>M</td>\n",
       "    </tr>\n",
       "    <tr>\n",
       "      <th>4997</th>\n",
       "      <td>2875330898</td>\n",
       "      <td>M</td>\n",
       "    </tr>\n",
       "    <tr>\n",
       "      <th>4998</th>\n",
       "      <td>57646643429</td>\n",
       "      <td>M</td>\n",
       "    </tr>\n",
       "    <tr>\n",
       "      <th>4999</th>\n",
       "      <td>92370836565</td>\n",
       "      <td>M</td>\n",
       "    </tr>\n",
       "  </tbody>\n",
       "</table>\n",
       "<p>4853 rows × 2 columns</p>\n",
       "</div>"
      ],
      "text/plain": [
       "          pers_id sexo\n",
       "0     71906556521    F\n",
       "1     73861260912    F\n",
       "2     24939194469    F\n",
       "3     21033369421    F\n",
       "4     45334163605    F\n",
       "...           ...  ...\n",
       "4995  77317158601    M\n",
       "4996   7865860477    M\n",
       "4997   2875330898    M\n",
       "4998  57646643429    M\n",
       "4999  92370836565    M\n",
       "\n",
       "[4853 rows x 2 columns]"
      ]
     },
     "execution_count": 97,
     "metadata": {},
     "output_type": "execute_result"
    }
   ],
   "source": [
    "t1.iloc[t1_unico.index,0:2]"
   ]
  },
  {
   "cell_type": "code",
   "execution_count": 105,
   "metadata": {},
   "outputs": [
    {
     "ename": "IndexingError",
     "evalue": "Too many indexers",
     "output_type": "error",
     "traceback": [
      "\u001b[1;31m---------------------------------------------------------------------------\u001b[0m",
      "\u001b[1;31mIndexingError\u001b[0m                             Traceback (most recent call last)",
      "Cell \u001b[1;32mIn [105], line 1\u001b[0m\n\u001b[1;32m----> 1\u001b[0m t2\u001b[39m.\u001b[39;49mgroupby(\u001b[39m\"\u001b[39;49m\u001b[39mpers_id\u001b[39;49m\u001b[39m\"\u001b[39;49m)\u001b[39m.\u001b[39;49msum()[\u001b[39m\"\u001b[39;49m\u001b[39mscore\u001b[39;49m\u001b[39m\"\u001b[39;49m]\u001b[39m.\u001b[39;49miloc[:,\u001b[39m1\u001b[39;49m]\n",
      "File \u001b[1;32mc:\\Users\\lenovo\\AppData\\Local\\Programs\\Python\\Python310\\lib\\site-packages\\pandas\\core\\indexing.py:1067\u001b[0m, in \u001b[0;36m_LocationIndexer.__getitem__\u001b[1;34m(self, key)\u001b[0m\n\u001b[0;32m   1065\u001b[0m     \u001b[39mif\u001b[39;00m \u001b[39mself\u001b[39m\u001b[39m.\u001b[39m_is_scalar_access(key):\n\u001b[0;32m   1066\u001b[0m         \u001b[39mreturn\u001b[39;00m \u001b[39mself\u001b[39m\u001b[39m.\u001b[39mobj\u001b[39m.\u001b[39m_get_value(\u001b[39m*\u001b[39mkey, takeable\u001b[39m=\u001b[39m\u001b[39mself\u001b[39m\u001b[39m.\u001b[39m_takeable)\n\u001b[1;32m-> 1067\u001b[0m     \u001b[39mreturn\u001b[39;00m \u001b[39mself\u001b[39;49m\u001b[39m.\u001b[39;49m_getitem_tuple(key)\n\u001b[0;32m   1068\u001b[0m \u001b[39melse\u001b[39;00m:\n\u001b[0;32m   1069\u001b[0m     \u001b[39m# we by definition only have the 0th axis\u001b[39;00m\n\u001b[0;32m   1070\u001b[0m     axis \u001b[39m=\u001b[39m \u001b[39mself\u001b[39m\u001b[39m.\u001b[39maxis \u001b[39mor\u001b[39;00m \u001b[39m0\u001b[39m\n",
      "File \u001b[1;32mc:\\Users\\lenovo\\AppData\\Local\\Programs\\Python\\Python310\\lib\\site-packages\\pandas\\core\\indexing.py:1563\u001b[0m, in \u001b[0;36m_iLocIndexer._getitem_tuple\u001b[1;34m(self, tup)\u001b[0m\n\u001b[0;32m   1561\u001b[0m \u001b[39mdef\u001b[39;00m \u001b[39m_getitem_tuple\u001b[39m(\u001b[39mself\u001b[39m, tup: \u001b[39mtuple\u001b[39m):\n\u001b[1;32m-> 1563\u001b[0m     tup \u001b[39m=\u001b[39m \u001b[39mself\u001b[39;49m\u001b[39m.\u001b[39;49m_validate_tuple_indexer(tup)\n\u001b[0;32m   1564\u001b[0m     \u001b[39mwith\u001b[39;00m suppress(IndexingError):\n\u001b[0;32m   1565\u001b[0m         \u001b[39mreturn\u001b[39;00m \u001b[39mself\u001b[39m\u001b[39m.\u001b[39m_getitem_lowerdim(tup)\n",
      "File \u001b[1;32mc:\\Users\\lenovo\\AppData\\Local\\Programs\\Python\\Python310\\lib\\site-packages\\pandas\\core\\indexing.py:869\u001b[0m, in \u001b[0;36m_LocationIndexer._validate_tuple_indexer\u001b[1;34m(self, key)\u001b[0m\n\u001b[0;32m    864\u001b[0m \u001b[39m@final\u001b[39m\n\u001b[0;32m    865\u001b[0m \u001b[39mdef\u001b[39;00m \u001b[39m_validate_tuple_indexer\u001b[39m(\u001b[39mself\u001b[39m, key: \u001b[39mtuple\u001b[39m) \u001b[39m-\u001b[39m\u001b[39m>\u001b[39m \u001b[39mtuple\u001b[39m:\n\u001b[0;32m    866\u001b[0m     \u001b[39m\"\"\"\u001b[39;00m\n\u001b[0;32m    867\u001b[0m \u001b[39m    Check the key for valid keys across my indexer.\u001b[39;00m\n\u001b[0;32m    868\u001b[0m \u001b[39m    \"\"\"\u001b[39;00m\n\u001b[1;32m--> 869\u001b[0m     key \u001b[39m=\u001b[39m \u001b[39mself\u001b[39;49m\u001b[39m.\u001b[39;49m_validate_key_length(key)\n\u001b[0;32m    870\u001b[0m     key \u001b[39m=\u001b[39m \u001b[39mself\u001b[39m\u001b[39m.\u001b[39m_expand_ellipsis(key)\n\u001b[0;32m    871\u001b[0m     \u001b[39mfor\u001b[39;00m i, k \u001b[39min\u001b[39;00m \u001b[39menumerate\u001b[39m(key):\n",
      "File \u001b[1;32mc:\\Users\\lenovo\\AppData\\Local\\Programs\\Python\\Python310\\lib\\site-packages\\pandas\\core\\indexing.py:908\u001b[0m, in \u001b[0;36m_LocationIndexer._validate_key_length\u001b[1;34m(self, key)\u001b[0m\n\u001b[0;32m    906\u001b[0m             \u001b[39mraise\u001b[39;00m IndexingError(_one_ellipsis_message)\n\u001b[0;32m    907\u001b[0m         \u001b[39mreturn\u001b[39;00m \u001b[39mself\u001b[39m\u001b[39m.\u001b[39m_validate_key_length(key)\n\u001b[1;32m--> 908\u001b[0m     \u001b[39mraise\u001b[39;00m IndexingError(\u001b[39m\"\u001b[39m\u001b[39mToo many indexers\u001b[39m\u001b[39m\"\u001b[39m)\n\u001b[0;32m    909\u001b[0m \u001b[39mreturn\u001b[39;00m key\n",
      "\u001b[1;31mIndexingError\u001b[0m: Too many indexers"
     ]
    }
   ],
   "source": [
    "t2.groupby(\"pers_id\").sum()[\"score\"].iloc[:,1]"
   ]
  }
 ],
 "metadata": {
  "kernelspec": {
   "display_name": "Python 3",
   "language": "python",
   "name": "python3"
  },
  "language_info": {
   "codemirror_mode": {
    "name": "ipython",
    "version": 3
   },
   "file_extension": ".py",
   "mimetype": "text/x-python",
   "name": "python",
   "nbconvert_exporter": "python",
   "pygments_lexer": "ipython3",
   "version": "3.10.1"
  },
  "orig_nbformat": 4,
  "vscode": {
   "interpreter": {
    "hash": "213524bb45a1aeaf737b1d8c77d7b8db5d425938d9dffc5f4bc6fe6dd3324700"
   }
  }
 },
 "nbformat": 4,
 "nbformat_minor": 2
}
